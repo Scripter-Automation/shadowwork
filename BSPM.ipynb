{
 "cells": [
  {
   "cell_type": "code",
   "execution_count": 1,
   "metadata": {},
   "outputs": [],
   "source": [
    "from src.shadowork.Data.DataProvider import MasterProvider\n",
    "from src.shadowork.Data.YFinanceProvider import YFinanceProvider"
   ]
  },
  {
   "cell_type": "code",
   "execution_count": 4,
   "metadata": {},
   "outputs": [
    {
     "data": {
      "text/html": [
       "<div>\n",
       "<style scoped>\n",
       "    .dataframe tbody tr th:only-of-type {\n",
       "        vertical-align: middle;\n",
       "    }\n",
       "\n",
       "    .dataframe tbody tr th {\n",
       "        vertical-align: top;\n",
       "    }\n",
       "\n",
       "    .dataframe thead th {\n",
       "        text-align: right;\n",
       "    }\n",
       "</style>\n",
       "<table border=\"1\" class=\"dataframe\">\n",
       "  <thead>\n",
       "    <tr style=\"text-align: right;\">\n",
       "      <th></th>\n",
       "      <th>Open</th>\n",
       "      <th>High</th>\n",
       "      <th>Low</th>\n",
       "      <th>Close</th>\n",
       "      <th>Volume</th>\n",
       "      <th>Dividends</th>\n",
       "      <th>Stock Splits</th>\n",
       "    </tr>\n",
       "    <tr>\n",
       "      <th>Date</th>\n",
       "      <th></th>\n",
       "      <th></th>\n",
       "      <th></th>\n",
       "      <th></th>\n",
       "      <th></th>\n",
       "      <th></th>\n",
       "      <th></th>\n",
       "    </tr>\n",
       "  </thead>\n",
       "  <tbody>\n",
       "    <tr>\n",
       "      <th>2019-09-13 00:00:00-04:00</th>\n",
       "      <td>131.600539</td>\n",
       "      <td>131.867980</td>\n",
       "      <td>130.444816</td>\n",
       "      <td>131.161179</td>\n",
       "      <td>23363100</td>\n",
       "      <td>0.0</td>\n",
       "      <td>0.0</td>\n",
       "    </tr>\n",
       "    <tr>\n",
       "      <th>2019-09-16 00:00:00-04:00</th>\n",
       "      <td>129.738001</td>\n",
       "      <td>130.568977</td>\n",
       "      <td>129.575628</td>\n",
       "      <td>130.215576</td>\n",
       "      <td>16731400</td>\n",
       "      <td>0.0</td>\n",
       "      <td>0.0</td>\n",
       "    </tr>\n",
       "    <tr>\n",
       "      <th>2019-09-17 00:00:00-04:00</th>\n",
       "      <td>130.817350</td>\n",
       "      <td>131.352232</td>\n",
       "      <td>130.311107</td>\n",
       "      <td>131.228058</td>\n",
       "      <td>17814200</td>\n",
       "      <td>0.0</td>\n",
       "      <td>0.0</td>\n",
       "    </tr>\n",
       "    <tr>\n",
       "      <th>2019-09-18 00:00:00-04:00</th>\n",
       "      <td>131.199380</td>\n",
       "      <td>132.450624</td>\n",
       "      <td>130.406604</td>\n",
       "      <td>132.307358</td>\n",
       "      <td>23982100</td>\n",
       "      <td>0.0</td>\n",
       "      <td>0.0</td>\n",
       "    </tr>\n",
       "    <tr>\n",
       "      <th>2019-09-19 00:00:00-04:00</th>\n",
       "      <td>134.007527</td>\n",
       "      <td>135.984679</td>\n",
       "      <td>133.787846</td>\n",
       "      <td>134.742996</td>\n",
       "      <td>35772100</td>\n",
       "      <td>0.0</td>\n",
       "      <td>0.0</td>\n",
       "    </tr>\n",
       "    <tr>\n",
       "      <th>...</th>\n",
       "      <td>...</td>\n",
       "      <td>...</td>\n",
       "      <td>...</td>\n",
       "      <td>...</td>\n",
       "      <td>...</td>\n",
       "      <td>...</td>\n",
       "      <td>...</td>\n",
       "    </tr>\n",
       "    <tr>\n",
       "      <th>2024-09-06 00:00:00-04:00</th>\n",
       "      <td>409.059998</td>\n",
       "      <td>410.649994</td>\n",
       "      <td>400.799988</td>\n",
       "      <td>401.700012</td>\n",
       "      <td>19609500</td>\n",
       "      <td>0.0</td>\n",
       "      <td>0.0</td>\n",
       "    </tr>\n",
       "    <tr>\n",
       "      <th>2024-09-09 00:00:00-04:00</th>\n",
       "      <td>407.239990</td>\n",
       "      <td>408.649994</td>\n",
       "      <td>402.149994</td>\n",
       "      <td>405.720001</td>\n",
       "      <td>15295100</td>\n",
       "      <td>0.0</td>\n",
       "      <td>0.0</td>\n",
       "    </tr>\n",
       "    <tr>\n",
       "      <th>2024-09-10 00:00:00-04:00</th>\n",
       "      <td>408.200012</td>\n",
       "      <td>416.329987</td>\n",
       "      <td>407.700012</td>\n",
       "      <td>414.200012</td>\n",
       "      <td>19594300</td>\n",
       "      <td>0.0</td>\n",
       "      <td>0.0</td>\n",
       "    </tr>\n",
       "    <tr>\n",
       "      <th>2024-09-11 00:00:00-04:00</th>\n",
       "      <td>415.500000</td>\n",
       "      <td>423.989990</td>\n",
       "      <td>409.579987</td>\n",
       "      <td>423.040009</td>\n",
       "      <td>19266900</td>\n",
       "      <td>0.0</td>\n",
       "      <td>0.0</td>\n",
       "    </tr>\n",
       "    <tr>\n",
       "      <th>2024-09-12 00:00:00-04:00</th>\n",
       "      <td>423.339996</td>\n",
       "      <td>427.369202</td>\n",
       "      <td>419.750000</td>\n",
       "      <td>427.000000</td>\n",
       "      <td>16664119</td>\n",
       "      <td>0.0</td>\n",
       "      <td>0.0</td>\n",
       "    </tr>\n",
       "  </tbody>\n",
       "</table>\n",
       "<p>1258 rows × 7 columns</p>\n",
       "</div>"
      ],
      "text/plain": [
       "                                 Open        High         Low       Close  \\\n",
       "Date                                                                        \n",
       "2019-09-13 00:00:00-04:00  131.600539  131.867980  130.444816  131.161179   \n",
       "2019-09-16 00:00:00-04:00  129.738001  130.568977  129.575628  130.215576   \n",
       "2019-09-17 00:00:00-04:00  130.817350  131.352232  130.311107  131.228058   \n",
       "2019-09-18 00:00:00-04:00  131.199380  132.450624  130.406604  132.307358   \n",
       "2019-09-19 00:00:00-04:00  134.007527  135.984679  133.787846  134.742996   \n",
       "...                               ...         ...         ...         ...   \n",
       "2024-09-06 00:00:00-04:00  409.059998  410.649994  400.799988  401.700012   \n",
       "2024-09-09 00:00:00-04:00  407.239990  408.649994  402.149994  405.720001   \n",
       "2024-09-10 00:00:00-04:00  408.200012  416.329987  407.700012  414.200012   \n",
       "2024-09-11 00:00:00-04:00  415.500000  423.989990  409.579987  423.040009   \n",
       "2024-09-12 00:00:00-04:00  423.339996  427.369202  419.750000  427.000000   \n",
       "\n",
       "                             Volume  Dividends  Stock Splits  \n",
       "Date                                                          \n",
       "2019-09-13 00:00:00-04:00  23363100        0.0           0.0  \n",
       "2019-09-16 00:00:00-04:00  16731400        0.0           0.0  \n",
       "2019-09-17 00:00:00-04:00  17814200        0.0           0.0  \n",
       "2019-09-18 00:00:00-04:00  23982100        0.0           0.0  \n",
       "2019-09-19 00:00:00-04:00  35772100        0.0           0.0  \n",
       "...                             ...        ...           ...  \n",
       "2024-09-06 00:00:00-04:00  19609500        0.0           0.0  \n",
       "2024-09-09 00:00:00-04:00  15295100        0.0           0.0  \n",
       "2024-09-10 00:00:00-04:00  19594300        0.0           0.0  \n",
       "2024-09-11 00:00:00-04:00  19266900        0.0           0.0  \n",
       "2024-09-12 00:00:00-04:00  16664119        0.0           0.0  \n",
       "\n",
       "[1258 rows x 7 columns]"
      ]
     },
     "execution_count": 4,
     "metadata": {},
     "output_type": "execute_result"
    }
   ],
   "source": [
    "\n",
    "master = MasterProvider([\n",
    "    YFinanceProvider(\"YFinance\", \"MSFT\",\"5y\",\"1d\"),\n",
    "    YFinanceProvider(\"SecondProvider\",\"META\", \"5y\", \"1d\")\n",
    "])\n",
    "\n",
    "master.get_all_providers()[\"YFinance\"].get_ohlc()"
   ]
  },
  {
   "cell_type": "code",
   "execution_count": 15,
   "metadata": {},
   "outputs": [
    {
     "name": "stdout",
     "output_type": "stream",
     "text": [
      "   A   B\n",
      "0  1   6\n",
      "1  2   7\n",
      "2  3   8\n",
      "3  4   9\n",
      "4  5  10\n",
      "   A   B    C\n",
      "0  1   6  7.0\n",
      "1  2   7  NaN\n",
      "2  3   8  NaN\n",
      "3  4   9  NaN\n",
      "4  5  10  NaN\n",
      "   A   B    C\n",
      "0  1   6  7.0\n",
      "1  2   7  9.0\n",
      "2  3   8  NaN\n",
      "3  4   9  NaN\n",
      "4  5  10  NaN\n",
      "   A   B     C\n",
      "0  1   6   7.0\n",
      "1  2   7   9.0\n",
      "2  3   8  11.0\n",
      "3  4   9   NaN\n",
      "4  5  10   NaN\n",
      "   A   B     C\n",
      "0  1   6   7.0\n",
      "1  2   7   9.0\n",
      "2  3   8  11.0\n",
      "3  4   9  13.0\n",
      "4  5  10   NaN\n",
      "   A   B     C\n",
      "0  1   6   7.0\n",
      "1  2   7   9.0\n",
      "2  3   8  11.0\n",
      "3  4   9  13.0\n",
      "4  5  10  15.0\n"
     ]
    }
   ],
   "source": [
    "import pandas as pd\n",
    "\n",
    "def generator(method, data: pd.DataFrame):\n",
    "    # Initial state\n",
    "    yield data.copy()\n",
    "    \n",
    "    # Apply the method step-by-step\n",
    "    for i in range(len(data)):\n",
    "        method(data, i)\n",
    "        yield data.copy()\n",
    "\n",
    "def test_function(data: pd.DataFrame, i: int):\n",
    "    data.at[i, \"C\"] = data.at[i, \"A\"] + data.at[i, \"B\"]\n",
    "\n",
    "# Sample DataFrame\n",
    "frame = pd.DataFrame({\n",
    "    \"A\": [1, 2, 3, 4, 5],\n",
    "    \"B\": [6, 7, 8, 9, 10]\n",
    "})\n",
    "\n",
    "# Create generator\n",
    "gen = generator(test_function, frame)\n",
    "\n",
    "# Iterate through generator to see each step\n",
    "for step in gen:\n",
    "    print(step)\n"
   ]
  },
  {
   "cell_type": "code",
   "execution_count": 8,
   "metadata": {},
   "outputs": [],
   "source": [
    "from abc import ABC\n",
    "\n",
    "class abstraction(ABC):\n",
    "    def test_me(self):\n",
    "        print(\"tested\")"
   ]
  },
  {
   "cell_type": "code",
   "execution_count": 10,
   "metadata": {},
   "outputs": [],
   "source": [
    "class inherited(abstraction):\n",
    "    def __init__(self):\n",
    "        print(\"Initialized\")"
   ]
  },
  {
   "cell_type": "code",
   "execution_count": 11,
   "metadata": {},
   "outputs": [
    {
     "name": "stdout",
     "output_type": "stream",
     "text": [
      "Initialized\n"
     ]
    }
   ],
   "source": [
    "inh = inherited()"
   ]
  },
  {
   "cell_type": "code",
   "execution_count": 12,
   "metadata": {},
   "outputs": [
    {
     "name": "stdout",
     "output_type": "stream",
     "text": [
      "tested\n"
     ]
    }
   ],
   "source": [
    "inh.test_me()"
   ]
  },
  {
   "cell_type": "code",
   "execution_count": 14,
   "metadata": {},
   "outputs": [
    {
     "name": "stdout",
     "output_type": "stream",
     "text": [
      "<class 'str'>\n"
     ]
    }
   ],
   "source": [
    "import pandas as pd\n",
    "\n",
    "# Sample DataFrame\n",
    "data = {\n",
    "    'Name': ['John', 'Anna', 'Peter', 'Linda'],\n",
    "    'Age': [28, 34, 29, 32],\n",
    "    'City': ['New York', 'Paris', 'Berlin', 'London']\n",
    "}\n",
    "df = pd.DataFrame(data)\n",
    "\n",
    "# Convert DataFrame to HTML table\n",
    "html_table = df.to_html()\n",
    "\n",
    "# Print the HTML table\n",
    "print(type(html_table))\n"
   ]
  },
  {
   "cell_type": "code",
   "execution_count": 16,
   "metadata": {},
   "outputs": [],
   "source": [
    "from pandas import DataFrame\n",
    "from src.shadowork.Models.Model import Model\n",
    "from src.shadowork.Models.Step import Step\n",
    "\n",
    "class apreciation(Step):\n",
    "    \"\"\n",
    "    def method(self, data: DataFrame, *args, **kwargs) -> DataFrame:\n",
    "        return super().method(data, *args, **kwargs)"
   ]
  },
  {
   "cell_type": "code",
   "execution_count": 17,
   "metadata": {},
   "outputs": [
    {
     "ename": "TypeError",
     "evalue": "Can't instantiate abstract class apreciation with abstract methods method, name",
     "output_type": "error",
     "traceback": [
      "\u001b[1;31m---------------------------------------------------------------------------\u001b[0m",
      "\u001b[1;31mTypeError\u001b[0m                                 Traceback (most recent call last)",
      "Cell \u001b[1;32mIn[17], line 1\u001b[0m\n\u001b[1;32m----> 1\u001b[0m \u001b[43mapreciation\u001b[49m\u001b[43m(\u001b[49m\u001b[38;5;124;43m\"\u001b[39;49m\u001b[38;5;124;43mtest\u001b[39;49m\u001b[38;5;124;43m\"\u001b[39;49m\u001b[43m)\u001b[49m\n",
      "\u001b[1;31mTypeError\u001b[0m: Can't instantiate abstract class apreciation with abstract methods method, name"
     ]
    }
   ],
   "source": [
    "apreciation(\"test\")"
   ]
  }
 ],
 "metadata": {
  "kernelspec": {
   "display_name": "Python 3",
   "language": "python",
   "name": "python3"
  },
  "language_info": {
   "codemirror_mode": {
    "name": "ipython",
    "version": 3
   },
   "file_extension": ".py",
   "mimetype": "text/x-python",
   "name": "python",
   "nbconvert_exporter": "python",
   "pygments_lexer": "ipython3",
   "version": "3.11.5"
  }
 },
 "nbformat": 4,
 "nbformat_minor": 2
}
